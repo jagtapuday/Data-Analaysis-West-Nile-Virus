{
 "cells": [
  {
   "cell_type": "markdown",
   "metadata": {},
   "source": [
    "#    Data Description \n",
    "https://www.kaggle.com/c/predict-west-nile-virus/data\n",
    "\n",
    "    In this competition, you will be analyzing weather data and GIS data and predicting whether or not West Nile virus is present, for a given time, location, and species. \n",
    "\n",
    "    Every year from late-May to early-October, public health workers in Chicago setup mosquito traps scattered across the city. Every week from Monday through Wednesday, these traps collect mosquitos, and the mosquitos are tested for the presence of West Nile virus before the end of the week. The test results include the number of mosquitos, the mosquitos species, and whether or not West Nile virus is present in the cohort. \n",
    "\n",
    "#    Main dataset\n",
    "\n",
    "    These test results are organized in such a way that when the number of mosquitos exceed 50, they are split into another record (another row in the dataset), such that the number of mosquitos are capped at 50. \n",
    "\n",
    "    The location of the traps are described by the block number and street name. For your convenience, we have mapped these attributes into Longitude and Latitude in the dataset. Please note that these are derived locations. For example, Block=79, and Street= \"W FOSTER AVE\" gives us an approximate address of \"7900 W FOSTER AVE, Chicago, IL\", which translates to (41.974089,-87.824812) on the map.\n",
    "\n",
    "    Some traps are \"satellite traps\". These are traps that are set up near (usually within 6 blocks) an established trap to enhance surveillance efforts. Satellite traps are postfixed with letters. For example, T220A is a satellite trap to T220. \n",
    "\n",
    "    Please note that not all the locations are tested at all times. Also, records exist only when a particular species of mosquitos is found at a certain trap at a certain time. In the test set, we ask you for all combinations/permutations of possible predictions and are only scoring the observed ones.\n",
    "    \n",
    "    \n",
    "#    File descriptions\n",
    "    train.csv, test.csv - the training and test set of the main dataset. The training set consists of data from 2007, 2009, 2011, and 2013, while in the test set you are requested to predict the test results for 2008, 2010, 2012, and 2014.\n",
    "    \n",
    "    Id: the id of the record\n",
    "    Date: date that the WNV test is performed\n",
    "    Address: approximate address of the location of trap. This is used to send to the GeoCoder. \n",
    "    Species: the species of mosquitos\n",
    "    Block: block number of address\n",
    "    Street: street name\n",
    "    Trap: Id of the trap\n",
    "    AddressNumberAndStreet: approximate address returned from GeoCoder\n",
    "    Latitude, Longitude: Latitude and Longitude returned from GeoCoder\n",
    "    AddressAccuracy: accuracy returned from GeoCoder\n",
    "    NumMosquitos: number of mosquitoes caught in this trap\n",
    "    WnvPresent: whether West Nile Virus was present in these mosquitos. 1 means WNV is present, and 0 means not present. "
   ]
  },
  {
   "cell_type": "code",
   "execution_count": 34,
   "metadata": {},
   "outputs": [],
   "source": [
    "import pandas as pd\n",
    "from IPython.display import display\n",
    "pd.options.display.max_columns=None\n",
    "import numpy as np\n",
    "import matplotlib.pyplot as plt\n",
    "%matplotlib inline\n",
    "import seaborn as sns\n"
   ]
  },
  {
   "cell_type": "code",
   "execution_count": 17,
   "metadata": {},
   "outputs": [
    {
     "data": {
      "text/html": [
       "<div>\n",
       "<style scoped>\n",
       "    .dataframe tbody tr th:only-of-type {\n",
       "        vertical-align: middle;\n",
       "    }\n",
       "\n",
       "    .dataframe tbody tr th {\n",
       "        vertical-align: top;\n",
       "    }\n",
       "\n",
       "    .dataframe thead th {\n",
       "        text-align: right;\n",
       "    }\n",
       "</style>\n",
       "<table border=\"1\" class=\"dataframe\">\n",
       "  <thead>\n",
       "    <tr style=\"text-align: right;\">\n",
       "      <th></th>\n",
       "      <th>Address</th>\n",
       "      <th>Species</th>\n",
       "      <th>Block</th>\n",
       "      <th>Street</th>\n",
       "      <th>Trap</th>\n",
       "      <th>AddressNumberAndStreet</th>\n",
       "      <th>Latitude</th>\n",
       "      <th>Longitude</th>\n",
       "      <th>AddressAccuracy</th>\n",
       "      <th>NumMosquitos</th>\n",
       "      <th>WnvPresent</th>\n",
       "    </tr>\n",
       "    <tr>\n",
       "      <th>Date</th>\n",
       "      <th></th>\n",
       "      <th></th>\n",
       "      <th></th>\n",
       "      <th></th>\n",
       "      <th></th>\n",
       "      <th></th>\n",
       "      <th></th>\n",
       "      <th></th>\n",
       "      <th></th>\n",
       "      <th></th>\n",
       "      <th></th>\n",
       "    </tr>\n",
       "  </thead>\n",
       "  <tbody>\n",
       "    <tr>\n",
       "      <th>2007-05-29</th>\n",
       "      <td>4100 North Oak Park Avenue, Chicago, IL 60634,...</td>\n",
       "      <td>CULEX PIPIENS/RESTUANS</td>\n",
       "      <td>41</td>\n",
       "      <td>N OAK PARK AVE</td>\n",
       "      <td>T002</td>\n",
       "      <td>4100  N OAK PARK AVE, Chicago, IL</td>\n",
       "      <td>41.954690</td>\n",
       "      <td>-87.800991</td>\n",
       "      <td>9</td>\n",
       "      <td>1</td>\n",
       "      <td>0</td>\n",
       "    </tr>\n",
       "    <tr>\n",
       "      <th>2007-05-29</th>\n",
       "      <td>4100 North Oak Park Avenue, Chicago, IL 60634,...</td>\n",
       "      <td>CULEX RESTUANS</td>\n",
       "      <td>41</td>\n",
       "      <td>N OAK PARK AVE</td>\n",
       "      <td>T002</td>\n",
       "      <td>4100  N OAK PARK AVE, Chicago, IL</td>\n",
       "      <td>41.954690</td>\n",
       "      <td>-87.800991</td>\n",
       "      <td>9</td>\n",
       "      <td>1</td>\n",
       "      <td>0</td>\n",
       "    </tr>\n",
       "    <tr>\n",
       "      <th>2007-05-29</th>\n",
       "      <td>6200 North Mandell Avenue, Chicago, IL 60646, USA</td>\n",
       "      <td>CULEX RESTUANS</td>\n",
       "      <td>62</td>\n",
       "      <td>N MANDELL AVE</td>\n",
       "      <td>T007</td>\n",
       "      <td>6200  N MANDELL AVE, Chicago, IL</td>\n",
       "      <td>41.994991</td>\n",
       "      <td>-87.769279</td>\n",
       "      <td>9</td>\n",
       "      <td>1</td>\n",
       "      <td>0</td>\n",
       "    </tr>\n",
       "    <tr>\n",
       "      <th>2007-05-29</th>\n",
       "      <td>7900 West Foster Avenue, Chicago, IL 60656, USA</td>\n",
       "      <td>CULEX PIPIENS/RESTUANS</td>\n",
       "      <td>79</td>\n",
       "      <td>W FOSTER AVE</td>\n",
       "      <td>T015</td>\n",
       "      <td>7900  W FOSTER AVE, Chicago, IL</td>\n",
       "      <td>41.974089</td>\n",
       "      <td>-87.824812</td>\n",
       "      <td>8</td>\n",
       "      <td>1</td>\n",
       "      <td>0</td>\n",
       "    </tr>\n",
       "    <tr>\n",
       "      <th>2007-05-29</th>\n",
       "      <td>7900 West Foster Avenue, Chicago, IL 60656, USA</td>\n",
       "      <td>CULEX RESTUANS</td>\n",
       "      <td>79</td>\n",
       "      <td>W FOSTER AVE</td>\n",
       "      <td>T015</td>\n",
       "      <td>7900  W FOSTER AVE, Chicago, IL</td>\n",
       "      <td>41.974089</td>\n",
       "      <td>-87.824812</td>\n",
       "      <td>8</td>\n",
       "      <td>4</td>\n",
       "      <td>0</td>\n",
       "    </tr>\n",
       "    <tr>\n",
       "      <th>2007-05-29</th>\n",
       "      <td>1500 West Webster Avenue, Chicago, IL 60614, USA</td>\n",
       "      <td>CULEX RESTUANS</td>\n",
       "      <td>15</td>\n",
       "      <td>W WEBSTER AVE</td>\n",
       "      <td>T045</td>\n",
       "      <td>1500  W WEBSTER AVE, Chicago, IL</td>\n",
       "      <td>41.921600</td>\n",
       "      <td>-87.666455</td>\n",
       "      <td>8</td>\n",
       "      <td>2</td>\n",
       "      <td>0</td>\n",
       "    </tr>\n",
       "    <tr>\n",
       "      <th>2007-05-29</th>\n",
       "      <td>2500 West Grand Avenue, Chicago, IL 60654, USA</td>\n",
       "      <td>CULEX RESTUANS</td>\n",
       "      <td>25</td>\n",
       "      <td>W GRAND AVE</td>\n",
       "      <td>T046</td>\n",
       "      <td>2500  W GRAND AVE, Chicago, IL</td>\n",
       "      <td>41.891118</td>\n",
       "      <td>-87.654491</td>\n",
       "      <td>8</td>\n",
       "      <td>1</td>\n",
       "      <td>0</td>\n",
       "    </tr>\n",
       "    <tr>\n",
       "      <th>2007-05-29</th>\n",
       "      <td>1100 Roosevelt Road, Chicago, IL 60608, USA</td>\n",
       "      <td>CULEX PIPIENS/RESTUANS</td>\n",
       "      <td>11</td>\n",
       "      <td>W ROOSEVELT</td>\n",
       "      <td>T048</td>\n",
       "      <td>1100  W ROOSEVELT, Chicago, IL</td>\n",
       "      <td>41.867108</td>\n",
       "      <td>-87.654224</td>\n",
       "      <td>8</td>\n",
       "      <td>1</td>\n",
       "      <td>0</td>\n",
       "    </tr>\n",
       "    <tr>\n",
       "      <th>2007-05-29</th>\n",
       "      <td>1100 Roosevelt Road, Chicago, IL 60608, USA</td>\n",
       "      <td>CULEX RESTUANS</td>\n",
       "      <td>11</td>\n",
       "      <td>W ROOSEVELT</td>\n",
       "      <td>T048</td>\n",
       "      <td>1100  W ROOSEVELT, Chicago, IL</td>\n",
       "      <td>41.867108</td>\n",
       "      <td>-87.654224</td>\n",
       "      <td>8</td>\n",
       "      <td>2</td>\n",
       "      <td>0</td>\n",
       "    </tr>\n",
       "    <tr>\n",
       "      <th>2007-05-29</th>\n",
       "      <td>1100 West Chicago Avenue, Chicago, IL 60642, USA</td>\n",
       "      <td>CULEX RESTUANS</td>\n",
       "      <td>11</td>\n",
       "      <td>W CHICAGO</td>\n",
       "      <td>T049</td>\n",
       "      <td>1100  W CHICAGO, Chicago, IL</td>\n",
       "      <td>41.896282</td>\n",
       "      <td>-87.655232</td>\n",
       "      <td>8</td>\n",
       "      <td>1</td>\n",
       "      <td>0</td>\n",
       "    </tr>\n",
       "    <tr>\n",
       "      <th>2007-05-29</th>\n",
       "      <td>2100 North Stave Street, Chicago, IL 60647, USA</td>\n",
       "      <td>CULEX PIPIENS/RESTUANS</td>\n",
       "      <td>21</td>\n",
       "      <td>N STAVE ST</td>\n",
       "      <td>T050</td>\n",
       "      <td>2100  N STAVE ST, Chicago, IL</td>\n",
       "      <td>41.919343</td>\n",
       "      <td>-87.694259</td>\n",
       "      <td>8</td>\n",
       "      <td>1</td>\n",
       "      <td>0</td>\n",
       "    </tr>\n",
       "    <tr>\n",
       "      <th>2007-05-29</th>\n",
       "      <td>2200 North Cannon Drive, Chicago, IL 60614, USA</td>\n",
       "      <td>CULEX PIPIENS/RESTUANS</td>\n",
       "      <td>22</td>\n",
       "      <td>N CANNON DR</td>\n",
       "      <td>T054</td>\n",
       "      <td>2200  N CANNON DR, Chicago, IL</td>\n",
       "      <td>41.921965</td>\n",
       "      <td>-87.632085</td>\n",
       "      <td>8</td>\n",
       "      <td>2</td>\n",
       "      <td>0</td>\n",
       "    </tr>\n",
       "    <tr>\n",
       "      <th>2007-05-29</th>\n",
       "      <td>2200 North Cannon Drive, Chicago, IL 60614, USA</td>\n",
       "      <td>CULEX RESTUANS</td>\n",
       "      <td>22</td>\n",
       "      <td>N CANNON DR</td>\n",
       "      <td>T054</td>\n",
       "      <td>2200  N CANNON DR, Chicago, IL</td>\n",
       "      <td>41.921965</td>\n",
       "      <td>-87.632085</td>\n",
       "      <td>8</td>\n",
       "      <td>3</td>\n",
       "      <td>0</td>\n",
       "    </tr>\n",
       "    <tr>\n",
       "      <th>2007-05-29</th>\n",
       "      <td>2200 West 113th Street, Chicago, IL 60643, USA</td>\n",
       "      <td>CULEX PIPIENS/RESTUANS</td>\n",
       "      <td>22</td>\n",
       "      <td>W 113TH ST</td>\n",
       "      <td>T086</td>\n",
       "      <td>2200  W 113TH ST, Chicago, IL</td>\n",
       "      <td>41.688324</td>\n",
       "      <td>-87.676709</td>\n",
       "      <td>8</td>\n",
       "      <td>1</td>\n",
       "      <td>0</td>\n",
       "    </tr>\n",
       "    <tr>\n",
       "      <th>2007-05-29</th>\n",
       "      <td>2200 West 113th Street, Chicago, IL 60643, USA</td>\n",
       "      <td>CULEX RESTUANS</td>\n",
       "      <td>22</td>\n",
       "      <td>W 113TH ST</td>\n",
       "      <td>T086</td>\n",
       "      <td>2200  W 113TH ST, Chicago, IL</td>\n",
       "      <td>41.688324</td>\n",
       "      <td>-87.676709</td>\n",
       "      <td>8</td>\n",
       "      <td>1</td>\n",
       "      <td>0</td>\n",
       "    </tr>\n",
       "    <tr>\n",
       "      <th>2007-05-29</th>\n",
       "      <td>1100 South Peoria Street, Chicago, IL 60608, USA</td>\n",
       "      <td>CULEX RESTUANS</td>\n",
       "      <td>11</td>\n",
       "      <td>S PEORIA ST</td>\n",
       "      <td>T091</td>\n",
       "      <td>1100  S PEORIA ST, Chicago, IL</td>\n",
       "      <td>41.862292</td>\n",
       "      <td>-87.648860</td>\n",
       "      <td>8</td>\n",
       "      <td>1</td>\n",
       "      <td>0</td>\n",
       "    </tr>\n",
       "    <tr>\n",
       "      <th>2007-05-29</th>\n",
       "      <td>1700 West 95th Street, Chicago, IL 60643, USA</td>\n",
       "      <td>CULEX RESTUANS</td>\n",
       "      <td>17</td>\n",
       "      <td>W 95TH ST</td>\n",
       "      <td>T094</td>\n",
       "      <td>1700  W 95TH ST, Chicago, IL</td>\n",
       "      <td>41.720848</td>\n",
       "      <td>-87.666014</td>\n",
       "      <td>9</td>\n",
       "      <td>3</td>\n",
       "      <td>0</td>\n",
       "    </tr>\n",
       "    <tr>\n",
       "      <th>2007-05-29</th>\n",
       "      <td>2200 West 89th Street, Chicago, IL 60643, USA</td>\n",
       "      <td>CULEX RESTUANS</td>\n",
       "      <td>22</td>\n",
       "      <td>W 89TH ST</td>\n",
       "      <td>T096</td>\n",
       "      <td>2200  W 89TH ST, Chicago, IL</td>\n",
       "      <td>41.731922</td>\n",
       "      <td>-87.677512</td>\n",
       "      <td>8</td>\n",
       "      <td>5</td>\n",
       "      <td>0</td>\n",
       "    </tr>\n",
       "    <tr>\n",
       "      <th>2007-05-29</th>\n",
       "      <td>2200 West 89th Street, Chicago, IL 60643, USA</td>\n",
       "      <td>CULEX PIPIENS</td>\n",
       "      <td>22</td>\n",
       "      <td>W 89TH ST</td>\n",
       "      <td>T096</td>\n",
       "      <td>2200  W 89TH ST, Chicago, IL</td>\n",
       "      <td>41.731922</td>\n",
       "      <td>-87.677512</td>\n",
       "      <td>8</td>\n",
       "      <td>1</td>\n",
       "      <td>0</td>\n",
       "    </tr>\n",
       "    <tr>\n",
       "      <th>2007-05-29</th>\n",
       "      <td>North Streeter Drive, Chicago, IL 60611, USA</td>\n",
       "      <td>CULEX PIPIENS/RESTUANS</td>\n",
       "      <td>53</td>\n",
       "      <td>N STREETER DR</td>\n",
       "      <td>T129</td>\n",
       "      <td>5300  N STREETER DR, Chicago, IL</td>\n",
       "      <td>41.891126</td>\n",
       "      <td>-87.611560</td>\n",
       "      <td>5</td>\n",
       "      <td>1</td>\n",
       "      <td>0</td>\n",
       "    </tr>\n",
       "  </tbody>\n",
       "</table>\n",
       "</div>"
      ],
      "text/plain": [
       "                                                      Address  \\\n",
       "Date                                                            \n",
       "2007-05-29  4100 North Oak Park Avenue, Chicago, IL 60634,...   \n",
       "2007-05-29  4100 North Oak Park Avenue, Chicago, IL 60634,...   \n",
       "2007-05-29  6200 North Mandell Avenue, Chicago, IL 60646, USA   \n",
       "2007-05-29    7900 West Foster Avenue, Chicago, IL 60656, USA   \n",
       "2007-05-29    7900 West Foster Avenue, Chicago, IL 60656, USA   \n",
       "2007-05-29   1500 West Webster Avenue, Chicago, IL 60614, USA   \n",
       "2007-05-29     2500 West Grand Avenue, Chicago, IL 60654, USA   \n",
       "2007-05-29        1100 Roosevelt Road, Chicago, IL 60608, USA   \n",
       "2007-05-29        1100 Roosevelt Road, Chicago, IL 60608, USA   \n",
       "2007-05-29   1100 West Chicago Avenue, Chicago, IL 60642, USA   \n",
       "2007-05-29    2100 North Stave Street, Chicago, IL 60647, USA   \n",
       "2007-05-29    2200 North Cannon Drive, Chicago, IL 60614, USA   \n",
       "2007-05-29    2200 North Cannon Drive, Chicago, IL 60614, USA   \n",
       "2007-05-29     2200 West 113th Street, Chicago, IL 60643, USA   \n",
       "2007-05-29     2200 West 113th Street, Chicago, IL 60643, USA   \n",
       "2007-05-29   1100 South Peoria Street, Chicago, IL 60608, USA   \n",
       "2007-05-29      1700 West 95th Street, Chicago, IL 60643, USA   \n",
       "2007-05-29      2200 West 89th Street, Chicago, IL 60643, USA   \n",
       "2007-05-29      2200 West 89th Street, Chicago, IL 60643, USA   \n",
       "2007-05-29       North Streeter Drive, Chicago, IL 60611, USA   \n",
       "\n",
       "                           Species  Block           Street  Trap  \\\n",
       "Date                                                               \n",
       "2007-05-29  CULEX PIPIENS/RESTUANS     41   N OAK PARK AVE  T002   \n",
       "2007-05-29          CULEX RESTUANS     41   N OAK PARK AVE  T002   \n",
       "2007-05-29          CULEX RESTUANS     62    N MANDELL AVE  T007   \n",
       "2007-05-29  CULEX PIPIENS/RESTUANS     79     W FOSTER AVE  T015   \n",
       "2007-05-29          CULEX RESTUANS     79     W FOSTER AVE  T015   \n",
       "2007-05-29          CULEX RESTUANS     15    W WEBSTER AVE  T045   \n",
       "2007-05-29          CULEX RESTUANS     25      W GRAND AVE  T046   \n",
       "2007-05-29  CULEX PIPIENS/RESTUANS     11      W ROOSEVELT  T048   \n",
       "2007-05-29          CULEX RESTUANS     11      W ROOSEVELT  T048   \n",
       "2007-05-29          CULEX RESTUANS     11        W CHICAGO  T049   \n",
       "2007-05-29  CULEX PIPIENS/RESTUANS     21       N STAVE ST  T050   \n",
       "2007-05-29  CULEX PIPIENS/RESTUANS     22      N CANNON DR  T054   \n",
       "2007-05-29          CULEX RESTUANS     22      N CANNON DR  T054   \n",
       "2007-05-29  CULEX PIPIENS/RESTUANS     22       W 113TH ST  T086   \n",
       "2007-05-29          CULEX RESTUANS     22       W 113TH ST  T086   \n",
       "2007-05-29          CULEX RESTUANS     11      S PEORIA ST  T091   \n",
       "2007-05-29          CULEX RESTUANS     17        W 95TH ST  T094   \n",
       "2007-05-29          CULEX RESTUANS     22        W 89TH ST  T096   \n",
       "2007-05-29           CULEX PIPIENS     22        W 89TH ST  T096   \n",
       "2007-05-29  CULEX PIPIENS/RESTUANS     53    N STREETER DR  T129   \n",
       "\n",
       "                       AddressNumberAndStreet   Latitude  Longitude  \\\n",
       "Date                                                                  \n",
       "2007-05-29  4100  N OAK PARK AVE, Chicago, IL  41.954690 -87.800991   \n",
       "2007-05-29  4100  N OAK PARK AVE, Chicago, IL  41.954690 -87.800991   \n",
       "2007-05-29   6200  N MANDELL AVE, Chicago, IL  41.994991 -87.769279   \n",
       "2007-05-29    7900  W FOSTER AVE, Chicago, IL  41.974089 -87.824812   \n",
       "2007-05-29    7900  W FOSTER AVE, Chicago, IL  41.974089 -87.824812   \n",
       "2007-05-29   1500  W WEBSTER AVE, Chicago, IL  41.921600 -87.666455   \n",
       "2007-05-29     2500  W GRAND AVE, Chicago, IL  41.891118 -87.654491   \n",
       "2007-05-29     1100  W ROOSEVELT, Chicago, IL  41.867108 -87.654224   \n",
       "2007-05-29     1100  W ROOSEVELT, Chicago, IL  41.867108 -87.654224   \n",
       "2007-05-29       1100  W CHICAGO, Chicago, IL  41.896282 -87.655232   \n",
       "2007-05-29      2100  N STAVE ST, Chicago, IL  41.919343 -87.694259   \n",
       "2007-05-29     2200  N CANNON DR, Chicago, IL  41.921965 -87.632085   \n",
       "2007-05-29     2200  N CANNON DR, Chicago, IL  41.921965 -87.632085   \n",
       "2007-05-29      2200  W 113TH ST, Chicago, IL  41.688324 -87.676709   \n",
       "2007-05-29      2200  W 113TH ST, Chicago, IL  41.688324 -87.676709   \n",
       "2007-05-29     1100  S PEORIA ST, Chicago, IL  41.862292 -87.648860   \n",
       "2007-05-29       1700  W 95TH ST, Chicago, IL  41.720848 -87.666014   \n",
       "2007-05-29       2200  W 89TH ST, Chicago, IL  41.731922 -87.677512   \n",
       "2007-05-29       2200  W 89TH ST, Chicago, IL  41.731922 -87.677512   \n",
       "2007-05-29   5300  N STREETER DR, Chicago, IL  41.891126 -87.611560   \n",
       "\n",
       "            AddressAccuracy  NumMosquitos  WnvPresent  \n",
       "Date                                                   \n",
       "2007-05-29                9             1           0  \n",
       "2007-05-29                9             1           0  \n",
       "2007-05-29                9             1           0  \n",
       "2007-05-29                8             1           0  \n",
       "2007-05-29                8             4           0  \n",
       "2007-05-29                8             2           0  \n",
       "2007-05-29                8             1           0  \n",
       "2007-05-29                8             1           0  \n",
       "2007-05-29                8             2           0  \n",
       "2007-05-29                8             1           0  \n",
       "2007-05-29                8             1           0  \n",
       "2007-05-29                8             2           0  \n",
       "2007-05-29                8             3           0  \n",
       "2007-05-29                8             1           0  \n",
       "2007-05-29                8             1           0  \n",
       "2007-05-29                8             1           0  \n",
       "2007-05-29                9             3           0  \n",
       "2007-05-29                8             5           0  \n",
       "2007-05-29                8             1           0  \n",
       "2007-05-29                5             1           0  "
      ]
     },
     "execution_count": 17,
     "metadata": {},
     "output_type": "execute_result"
    }
   ],
   "source": [
    "df=pd.read_csv(\"train.csv\",index_col=[\"Date\"],parse_dates=[\"Date\"])\n",
    "df.head(20)"
   ]
  },
  {
   "cell_type": "code",
   "execution_count": 29,
   "metadata": {},
   "outputs": [],
   "source": [
    "df['year'] = [d.year for d in df.index]\n",
    "df['month'] = [d.month for d in df.index]"
   ]
  },
  {
   "cell_type": "code",
   "execution_count": 30,
   "metadata": {},
   "outputs": [
    {
     "data": {
      "text/plain": [
       "(10506, 13)"
      ]
     },
     "execution_count": 30,
     "metadata": {},
     "output_type": "execute_result"
    }
   ],
   "source": [
    "df.shape"
   ]
  },
  {
   "cell_type": "markdown",
   "metadata": {},
   "source": [
    "# Basic Analysis"
   ]
  },
  {
   "cell_type": "code",
   "execution_count": 31,
   "metadata": {},
   "outputs": [
    {
     "data": {
      "text/plain": [
       "CULEX PIPIENS/RESTUANS    4752\n",
       "CULEX RESTUANS            2740\n",
       "CULEX PIPIENS             2699\n",
       "CULEX TERRITANS            222\n",
       "CULEX SALINARIUS            86\n",
       "CULEX TARSALIS               6\n",
       "CULEX ERRATICUS              1\n",
       "Name: Species, dtype: int64"
      ]
     },
     "execution_count": 31,
     "metadata": {},
     "output_type": "execute_result"
    }
   ],
   "source": [
    "df.Species.value_counts()"
   ]
  },
  {
   "cell_type": "code",
   "execution_count": 32,
   "metadata": {},
   "outputs": [
    {
     "data": {
      "text/plain": [
       "Index(['Address', 'Species', 'Block', 'Street', 'Trap',\n",
       "       'AddressNumberAndStreet', 'Latitude', 'Longitude', 'AddressAccuracy',\n",
       "       'NumMosquitos', 'WnvPresent', 'year', 'month'],\n",
       "      dtype='object')"
      ]
     },
     "execution_count": 32,
     "metadata": {},
     "output_type": "execute_result"
    }
   ],
   "source": [
    "df.columns"
   ]
  },
  {
   "cell_type": "code",
   "execution_count": 133,
   "metadata": {
    "scrolled": true
   },
   "outputs": [
    {
     "data": {
      "text/plain": [
       "Species\n",
       "CULEX ERRATICUS               7\n",
       "CULEX PIPIENS             44671\n",
       "CULEX PIPIENS/RESTUANS    66268\n",
       "CULEX RESTUANS            23431\n",
       "CULEX SALINARIUS            145\n",
       "CULEX TARSALIS                7\n",
       "CULEX TERRITANS             510\n",
       "Name: NumMosquitos, dtype: int64"
      ]
     },
     "execution_count": 133,
     "metadata": {},
     "output_type": "execute_result"
    }
   ],
   "source": [
    "df.groupby(by=\"Species\")[\"NumMosquitos\"].sum()"
   ]
  },
  {
   "cell_type": "code",
   "execution_count": 131,
   "metadata": {},
   "outputs": [
    {
     "data": {
      "text/plain": [
       "<matplotlib.axes._subplots.AxesSubplot at 0x7f8bd1c54d10>"
      ]
     },
     "execution_count": 131,
     "metadata": {},
     "output_type": "execute_result"
    },
    {
     "data": {
      "image/png": "[encoded data removed]",
      "text/plain": [
       "<Figure size 432x288 with 1 Axes>"
      ]
     },
     "metadata": {
      "needs_background": "light"
     },
     "output_type": "display_data"
    }
   ],
   "source": [
    "df.groupby(by=\"Species\")[\"WnvPresent\"].sum().plot(kind=\"bar\")"
   ]
  },
  {
   "cell_type": "code",
   "execution_count": 128,
   "metadata": {},
   "outputs": [
    {
     "data": {
      "text/plain": [
       "<matplotlib.axes._subplots.AxesSubplot at 0x7f8bd1fa7dd0>"
      ]
     },
     "execution_count": 128,
     "metadata": {},
     "output_type": "execute_result"
    },
    {
     "data": {
      "image/png": "[encoded data removed]",
      "text/plain": [
       "<Figure size 1800x360 with 1 Axes>"
      ]
     },
     "metadata": {
      "needs_background": "light"
     },
     "output_type": "display_data"
    }
   ],
   "source": [
    "df.groupby(by=\"Block\")[\"NumMosquitos\"].sum().plot(kind=\"bar\",figsize=(25,5))"
   ]
  },
  {
   "cell_type": "code",
   "execution_count": 127,
   "metadata": {},
   "outputs": [
    {
     "data": {
      "text/plain": [
       "<matplotlib.axes._subplots.AxesSubplot at 0x7f8bd21e3690>"
      ]
     },
     "execution_count": 127,
     "metadata": {},
     "output_type": "execute_result"
    },
    {
     "data": {
      "image/png": "[encoded data removed]",
      "text/plain": [
       "<Figure size 1800x360 with 1 Axes>"
      ]
     },
     "metadata": {
      "needs_background": "light"
     },
     "output_type": "display_data"
    }
   ],
   "source": [
    "df.groupby(by=\"Block\")[\"WnvPresent\"].sum().plot(kind=\"bar\",figsize=(25,5))"
   ]
  },
  {
   "cell_type": "code",
   "execution_count": 35,
   "metadata": {},
   "outputs": [
    {
     "data": {
      "text/plain": [
       "<matplotlib.axes._subplots.AxesSubplot at 0x7f8bd81b9b50>"
      ]
     },
     "execution_count": 35,
     "metadata": {},
     "output_type": "execute_result"
    },
    {
     "data": {
      "image/png": "[encoded data removed]",
      "text/plain": [
       "<Figure size 1600x560 with 2 Axes>"
      ]
     },
     "metadata": {
      "needs_background": "light"
     },
     "output_type": "display_data"
    }
   ],
   "source": [
    "fig, axes = plt.subplots(1, 2, figsize=(20,7), dpi= 80)\n",
    "sns.boxplot(x='year', y='NumMosquitos', data=df, ax=axes[0])\n",
    "sns.boxplot(x='month', y='NumMosquitos', data=df,ax=axes[1])"
   ]
  },
  {
   "cell_type": "markdown",
   "metadata": {},
   "source": [
    "# Spread Mosquitoes"
   ]
  },
  {
   "cell_type": "code",
   "execution_count": 44,
   "metadata": {},
   "outputs": [],
   "source": [
    "df.dropna(inplace=True)"
   ]
  },
  {
   "cell_type": "code",
   "execution_count": 104,
   "metadata": {},
   "outputs": [
    {
     "data": {
      "image/png": "[encoded data removed]",
      "text/plain": [
       "<Figure size 1600x800 with 1 Axes>"
      ]
     },
     "metadata": {
      "needs_background": "light"
     },
     "output_type": "display_data"
    }
   ],
   "source": [
    "fig, axes = plt.subplots(1, figsize=(20,10), dpi= 80)\n",
    "sns.scatterplot(x=\"Longitude\",y=\"Latitude\",hue=\"WnvPresent\",data=df)\n",
    "plt.show()"
   ]
  },
  {
   "cell_type": "markdown",
   "metadata": {},
   "source": [
    "# Bar Plots"
   ]
  },
  {
   "cell_type": "code",
   "execution_count": 113,
   "metadata": {},
   "outputs": [
    {
     "data": {
      "text/plain": [
       "<matplotlib.axes._subplots.AxesSubplot at 0x7f8bd5362d90>"
      ]
     },
     "execution_count": 113,
     "metadata": {},
     "output_type": "execute_result"
    },
    {
     "data": {
      "image/png": "[encoded data removed]",
      "text/plain": [
       "<Figure size 432x288 with 1 Axes>"
      ]
     },
     "metadata": {
      "needs_background": "light"
     },
     "output_type": "display_data"
    }
   ],
   "source": [
    "df.groupby(by=\"month\")[\"NumMosquitos\"].sum().plot(kind=\"bar\")"
   ]
  },
  {
   "cell_type": "code",
   "execution_count": 130,
   "metadata": {},
   "outputs": [
    {
     "data": {
      "text/plain": [
       "<matplotlib.axes._subplots.AxesSubplot at 0x7f8bd1d495d0>"
      ]
     },
     "execution_count": 130,
     "metadata": {},
     "output_type": "execute_result"
    },
    {
     "data": {
      "image/png": "[encoded data removed]",
      "text/plain": [
       "<Figure size 432x288 with 1 Axes>"
      ]
     },
     "metadata": {
      "needs_background": "light"
     },
     "output_type": "display_data"
    }
   ],
   "source": [
    "df.groupby(by=\"year\")[\"NumMosquitos\"].sum().plot(kind=\"bar\")"
   ]
  },
  {
   "cell_type": "markdown",
   "metadata": {},
   "source": [
    "# Conclusion : \n",
    "### As Compared to 2007 the Number of  mosquito in 2009-11-13 is less.\n",
    "### Number of mosquito found in month 6-9 is high as compared to month 5th and 10th .ie.High Growth between  between(6-9 month)\n",
    "### West Nile Virus was present in PIPIENS and RESTUANS, mosquitos.\n",
    "### A mosquito of a genus(CULEX) which includes a number of kinds commonly found in cooler regions. \n",
    "### Maximum mosquitos which contain West Nile Virus was present Block 10,11,12 \n",
    "\n",
    "### Temperature is less the production of mosquito is more. \n",
    "### Distribution of Heat in the month of 6-7-8 is quite low . That is a favorable condition for mosquito production. \n",
    "### From 2007 to 2009 -> sudden change in Av.cool (ie.Temprature). May be this is reason the Number of mosquito in 2009 is quite low as compared to 2007 \n",
    "### In 2011, even the (Avg)cool temperature is high as compared to 2009 still due to may be Anti-mosquito spray the count of mosquito got reduce.\n",
    "\n",
    "###  Wind Effect As compare to month 5 and 10 , months 6-9 has low AvgSpeed(wind) which is favorable for the growth of mosquitoes.\n",
    "### DewPoint also plays an important role in the growth of mosquitoes. Due Avg. DewPoint of months 6-9 is high as compared to 5-6 which is directly proportional to the growth of mosquitoes.\n",
    "### Anti-mosquito spray used only in the months 7-8 and 9 (2011 & 13).\n",
    "### The effect of Anti-mosquito spray we can clearly see the count of mosquito\n",
    "### The count of mosquito in 2013 is increased that's why may be the increased area and frequency of Anti-mosquito spray."
   ]
  },
  {
   "cell_type": "code",
   "execution_count": null,
   "metadata": {},
   "outputs": [],
   "source": []
  }
 ],
 "metadata": {
  "kernelspec": {
   "display_name": "Python 3",
   "language": "python",
   "name": "python3"
  },
  "language_info": {
   "codemirror_mode": {
    "name": "ipython",
    "version": 3
   },
   "file_extension": ".py",
   "mimetype": "text/x-python",
   "name": "python",
   "nbconvert_exporter": "python",
   "pygments_lexer": "ipython3",
   "version": "3.7.7"
  },
  "toc": {
   "base_numbering": 1,
   "nav_menu": {},
   "number_sections": true,
   "sideBar": true,
   "skip_h1_title": false,
   "title_cell": "Table of Contents",
   "title_sidebar": "Contents",
   "toc_cell": false,
   "toc_position": {},
   "toc_section_display": true,
   "toc_window_display": true
  }
 },
 "nbformat": 4,
 "nbformat_minor": 4
}
